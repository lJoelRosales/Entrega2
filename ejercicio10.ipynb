{
 "cells": [
  {
   "cell_type": "markdown",
   "metadata": {},
   "source": [
    "# **EJERCICIO 10**\n",
    "## Copiamos las variables:  "
   ]
  },
  {
   "cell_type": "code",
   "execution_count": 3,
   "metadata": {},
   "outputs": [],
   "source": [
    "names = \"\"\" Agustin, Yanina, Andrés, Ariadna, Bautista, CAROLINA,\n",
    "CESAR, David, Diego, Dolores, DYLAN, ELIANA, Emanuel, Fabián, Noelia,\n",
    "Francsica', FEDERICO, Fernanda, GONZALO, Nancy \"\"\"\n",
    "goals = [0, 10, 4, 0, 5, 14, 0, 0, 7, 2, 1, 1, 1, 5, 6, 1, 1, 2, 0, 11]\n",
    "goals_avoided = [0, 2, 0, 0, 5, 2, 0, 0, 1, 2, 0, 5, 5, 0, 1, 0, 2, 3, 0, 0]\n",
    "assists = [0, 5, 1, 0, 5, 2, 0, 0, 1, 2, 1, 5, 5, 0, 1, 0, 2, 3, 1, 0]"
   ]
  },
  {
   "cell_type": "markdown",
   "metadata": {},
   "source": [
    "## Punto 1: Generar una estructura con todas las estadísticas asociadas a cada jugador o jugadora.\n",
    "\n",
    "Agrupamos en una sola estructura a los jugadores con sus respectivos datos."
   ]
  },
  {
   "cell_type": "code",
   "execution_count": 4,
   "metadata": {},
   "outputs": [
    {
     "data": {
      "text/plain": [
       "{'Agustin': {'goles': 0, 'goles evitados': 0, 'asistencias': 0},\n",
       " 'Yanina': {'goles': 10, 'goles evitados': 2, 'asistencias': 5},\n",
       " 'Andrés': {'goles': 4, 'goles evitados': 0, 'asistencias': 1},\n",
       " 'Ariadna': {'goles': 0, 'goles evitados': 0, 'asistencias': 0},\n",
       " 'Bautista': {'goles': 5, 'goles evitados': 5, 'asistencias': 5},\n",
       " 'CAROLINA': {'goles': 14, 'goles evitados': 2, 'asistencias': 2},\n",
       " 'CESAR': {'goles': 0, 'goles evitados': 0, 'asistencias': 0},\n",
       " 'David': {'goles': 0, 'goles evitados': 0, 'asistencias': 0},\n",
       " 'Diego': {'goles': 7, 'goles evitados': 1, 'asistencias': 1},\n",
       " 'Dolores': {'goles': 2, 'goles evitados': 2, 'asistencias': 2},\n",
       " 'DYLAN': {'goles': 1, 'goles evitados': 0, 'asistencias': 1},\n",
       " 'ELIANA': {'goles': 1, 'goles evitados': 5, 'asistencias': 5},\n",
       " 'Emanuel': {'goles': 1, 'goles evitados': 5, 'asistencias': 5},\n",
       " 'Fabián': {'goles': 5, 'goles evitados': 0, 'asistencias': 0},\n",
       " 'Noelia': {'goles': 6, 'goles evitados': 1, 'asistencias': 1},\n",
       " \"Francsica'\": {'goles': 1, 'goles evitados': 0, 'asistencias': 0},\n",
       " 'FEDERICO': {'goles': 1, 'goles evitados': 2, 'asistencias': 2},\n",
       " 'Fernanda': {'goles': 2, 'goles evitados': 3, 'asistencias': 3},\n",
       " 'GONZALO': {'goles': 0, 'goles evitados': 0, 'asistencias': 1},\n",
       " 'Nancy': {'goles': 11, 'goles evitados': 0, 'asistencias': 0}}"
      ]
     },
     "execution_count": 4,
     "metadata": {},
     "output_type": "execute_result"
    }
   ],
   "source": [
    "dictionary = {}\n",
    "keys = list(name.strip() for name in names.split(','))\n",
    "for name, goles, evitados, asistencias in zip(keys, goals, goals_avoided, assists):\n",
    "    datos = {\n",
    "        'goles' : goles,\n",
    "        'goles evitados' : evitados,\n",
    "        'asistencias' : asistencias\n",
    "        \n",
    "    }\n",
    "    dictionary[name] = datos\n",
    "    \n",
    "dictionary"
   ]
  },
  {
   "cell_type": "markdown",
   "metadata": {},
   "source": [
    "## Punto 2: Conocer el nombre y la cantidad de goles del goleador o goleadora. "
   ]
  },
  {
   "cell_type": "markdown",
   "metadata": {},
   "source": [
    "importamos nuestra funcion:\n",
    "\n",
    "Nos devolvera los datos del jugador con mas goles."
   ]
  },
  {
   "cell_type": "code",
   "execution_count": 5,
   "metadata": {},
   "outputs": [
    {
     "name": "stdout",
     "output_type": "stream",
     "text": [
      "La goleadora es: CAROLINA con 14 goles anotados.\n"
     ]
    }
   ],
   "source": [
    "from modules import goleador_del_equipo\n",
    "\n",
    "goleador = goleador_del_equipo(dictionary)\n",
    "print(f\"La goleadora es: {goleador['Nombre']} con {goleador['Goles']} goles anotados.\")"
   ]
  },
  {
   "cell_type": "markdown",
   "metadata": {},
   "source": [
    "## Punto 3: Conocer el nombre del jugador o jugadora más influyente, esto se consigue sumando goles a favor, goles evitados y cantidad de asistencias. La particularidad es que los goles a favor, evitados y las asistencias NO valen lo mismo (es un promedio ponderado):"
   ]
  },
  {
   "cell_type": "markdown",
   "metadata": {},
   "source": [
    "**Tabla de valores:**\n",
    "\n",
    "goles a favor = 1.5\n",
    "\n",
    "goles evitados = 1.25\n",
    "\n",
    "asistencias = 1"
   ]
  },
  {
   "cell_type": "code",
   "execution_count": 7,
   "metadata": {},
   "outputs": [],
   "source": [
    "goles_a_favor = 1.5\n",
    "\n",
    "goles_evitados = 1.25\n",
    "\n",
    "asistencias = 1"
   ]
  },
  {
   "cell_type": "markdown",
   "metadata": {},
   "source": [
    "### **Realizamos el calculo:** \n",
    "\n",
    "Definimos una lista que guardara el nombre y el puntaje de cada jugador.\n",
    "Luego obtendremos el maximo para encontrar al jugador mas influyente."
   ]
  },
  {
   "cell_type": "code",
   "execution_count": 13,
   "metadata": {},
   "outputs": [
    {
     "name": "stdout",
     "output_type": "stream",
     "text": [
      "El jugador mas influyente es CAROLINA con un puntaje de: 8.5\n"
     ]
    }
   ],
   "source": [
    "prom_ponderado = []\n",
    "for name, datos in dictionary.items():\n",
    "    puntaje = sum([datos['goles'] * goles_a_favor, datos['goles evitados'] * goles_evitados, datos['asistencias'] * asistencias]) / len(datos)\n",
    "    prom_ponderado.append(tuple([name, puntaje]))\n",
    "\n",
    "max_player = max(prom_ponderado, key=lambda x:x[1])\n",
    "print(f\"El jugador mas influyente es {max_player[0]} con un puntaje de: {max_player[1]}\")\n"
   ]
  },
  {
   "cell_type": "markdown",
   "metadata": {},
   "source": [
    "## Punto 4: Conocer el promedio de goles por partido del equipo en general. Dato: Se jugaron 25 partidos en la temporada."
   ]
  },
  {
   "cell_type": "markdown",
   "metadata": {},
   "source": [
    "Gurdamos en una variable la cantidad total de partidos jugados:"
   ]
  },
  {
   "cell_type": "code",
   "execution_count": 10,
   "metadata": {},
   "outputs": [],
   "source": [
    "totPartidos = 25"
   ]
  },
  {
   "cell_type": "markdown",
   "metadata": {},
   "source": [
    "**Importamos nuestra funcion:** \n",
    "\n",
    "Sumara el total de goles y dividira entre el total de partidos."
   ]
  },
  {
   "cell_type": "code",
   "execution_count": 11,
   "metadata": {},
   "outputs": [
    {
     "name": "stdout",
     "output_type": "stream",
     "text": [
      "El promedio de goles por partido es: 2.84\n"
     ]
    }
   ],
   "source": [
    "from modules import promedio_partido\n",
    "\n",
    "prom_partido = promedio_partido(goals, totPartidos)\n",
    "print(f\"El promedio de goles por partido es: {prom_partido}\")"
   ]
  },
  {
   "cell_type": "markdown",
   "metadata": {},
   "source": [
    "## Punto 5: Conocer el promedio de goles por partido del goleador o goleadora. Dato: Se jugaron 25 partidos en la temporada."
   ]
  },
  {
   "cell_type": "markdown",
   "metadata": {},
   "source": [
    "**Importamos nuestra funcion:**\n",
    "\n",
    "Dividira la cantidad de goles del \"goleador\" entre la cantidad de partidos obteniendo asi el promedio de goles por partido."
   ]
  },
  {
   "cell_type": "code",
   "execution_count": 12,
   "metadata": {},
   "outputs": [
    {
     "name": "stdout",
     "output_type": "stream",
     "text": [
      "El promedio de goles de CAROLINA por partido es: 0.56\n"
     ]
    }
   ],
   "source": [
    "from modules import promedio_player\n",
    "\n",
    "prom_player = promedio_player(goleador, totPartidos)\n",
    "print(f\"El promedio de goles de {goleador['Nombre']} por partido es: {prom_player}\")"
   ]
  }
 ],
 "metadata": {
  "kernelspec": {
   "display_name": "venv",
   "language": "python",
   "name": "python3"
  },
  "language_info": {
   "codemirror_mode": {
    "name": "ipython",
    "version": 3
   },
   "file_extension": ".py",
   "mimetype": "text/x-python",
   "name": "python",
   "nbconvert_exporter": "python",
   "pygments_lexer": "ipython3",
   "version": "3.11.7"
  }
 },
 "nbformat": 4,
 "nbformat_minor": 2
}
